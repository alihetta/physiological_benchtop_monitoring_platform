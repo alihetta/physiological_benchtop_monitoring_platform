{
 "cells": [
  {
   "cell_type": "code",
   "execution_count": 24,
   "metadata": {},
   "outputs": [],
   "source": [
    "%reset -f"
   ]
  },
  {
   "cell_type": "code",
   "execution_count": 25,
   "metadata": {},
   "outputs": [],
   "source": [
    "import pandas as pd\n",
    "import numpy as np\n",
    "import matplotlib.pyplot as plt\n",
    "import scipy.signal as signal\n",
    "import plotly.graph_objs as go\n",
    "import plotly.io as pio\n",
    "from scipy.interpolate import interp1d\n",
    "from scipy.ndimage import gaussian_filter1d\n",
    "from scipy.signal import find_peaks, detrend\n",
    "from scipy.signal import correlate\n",
    "from scipy.stats import pearsonr\n",
    "from plotly.subplots import make_subplots\n",
    "import csv\n",
    "from biosppy.signals import ecg"
   ]
  },
  {
   "cell_type": "code",
   "execution_count": 26,
   "metadata": {},
   "outputs": [],
   "source": [
    "# Sets figure show to pop on default browser\n",
    "pio.renderers.default = 'browser'"
   ]
  },
  {
   "cell_type": "code",
   "execution_count": 27,
   "metadata": {},
   "outputs": [],
   "source": [
    "\n",
    "# === Load and Process ECG Data ===\n",
    "df_ecg = pd.read_csv('ECG_test_initial.csv')"
   ]
  },
  {
   "cell_type": "code",
   "execution_count": 28,
   "metadata": {},
   "outputs": [],
   "source": [
    "\n",
    "# Convert time to seconds\n",
    "df_ecg[\"time_ms\"] = df_ecg[\"Time Stamp\"].astype(float)\n",
    "df_ecg[\"time_sec\"] = (df_ecg[\"time_ms\"] - df_ecg[\"time_ms\"].iloc[0]) / 1000.0"
   ]
  },
  {
   "cell_type": "code",
   "execution_count": 29,
   "metadata": {},
   "outputs": [],
   "source": [
    "# Extract signals\n",
    "t_ecg = df_ecg[\"time_sec\"].to_numpy()\n",
    "ecg_signal = df_ecg[\"ECG\"].to_numpy()"
   ]
  },
  {
   "cell_type": "code",
   "execution_count": 31,
   "metadata": {},
   "outputs": [],
   "source": [
    "# === Plot Raw ECG Signal ===\n",
    "fig_spo2 = go.Figure()\n",
    "fig_spo2.add_trace(go.Scatter(x=t_ecg, y=ecg_signal, mode='lines', name='ECG Raw Signal',line=dict(color='green')))\n",
    "fig_spo2.update_layout(\n",
    "    title=\"ECG Raw Signal\",\n",
    "    xaxis_title=\"Time (s)\",\n",
    "    yaxis_title=\"ECG\",\n",
    "    hovermode=\"x unified\"\n",
    ")\n",
    "fig_spo2.show()"
   ]
  }
 ],
 "metadata": {
  "kernelspec": {
   "display_name": "pulseoxcode",
   "language": "python",
   "name": "python3"
  },
  "language_info": {
   "codemirror_mode": {
    "name": "ipython",
    "version": 3
   },
   "file_extension": ".py",
   "mimetype": "text/x-python",
   "name": "python",
   "nbconvert_exporter": "python",
   "pygments_lexer": "ipython3",
   "version": "3.13.0"
  }
 },
 "nbformat": 4,
 "nbformat_minor": 2
}
